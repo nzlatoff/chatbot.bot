{
 "cells": [
  {
   "cell_type": "code",
   "execution_count": 2,
   "metadata": {},
   "outputs": [
    {
     "data": {
      "text/plain": [
       "True"
      ]
     },
     "execution_count": 2,
     "metadata": {},
     "output_type": "execute_result"
    }
   ],
   "source": [
    "import numpy as np\n",
    "\n",
    "batch_size = 4\n",
    "seq_len = 10\n",
    "n_vocab = 200\n",
    "\n",
    "# synthetic sequences of tokens\n",
    "sequences = np.random.randint(0, n_vocab, size=(batch_size, seq_len))\n",
    "\n",
    "# synthetic logits matrix, which I would obtain by running my network over the sequences\n",
    "logits = np.random.normal(size=(batch_size, seq_len, n_vocab)) \n",
    "\n",
    "# select the appropriate logits from the matrix using the sequences tokens as indices\n",
    "# question: is there a more numpyic way of doing thing? \n",
    "seq_scores = np.array([\n",
    "    [logits[batch, step, token]for step, token in enumerate(sequence)] \n",
    "    for batch, sequence in enumerate(sequences)\n",
    "])\n",
    "\n",
    "seq_scores[0,0] == logits[0,0,sequences[0,0]] # True\n",
    "seq_scores.shape == sequences.shape # True"
   ]
  },
  {
   "cell_type": "markdown",
   "metadata": {},
   "source": [
    "## Optimization on one sequence."
   ]
  },
  {
   "cell_type": "code",
   "execution_count": 11,
   "metadata": {},
   "outputs": [
    {
     "data": {
      "text/plain": [
       "array([ True,  True,  True,  True,  True,  True,  True,  True,  True,\n",
       "        True])"
      ]
     },
     "execution_count": 11,
     "metadata": {},
     "output_type": "execute_result"
    }
   ],
   "source": [
    "[logits[0, i, token] for i, token in enumerate(sequences[0])] \\\n",
    "    == logits[0, list(range(seq_len)), sequences[0]] "
   ]
  },
  {
   "cell_type": "code",
   "execution_count": 8,
   "metadata": {},
   "outputs": [
    {
     "name": "stdout",
     "output_type": "stream",
     "text": [
      "3.28 µs ± 27.4 ns per loop (mean ± std. dev. of 7 runs, 100000 loops each)\n"
     ]
    }
   ],
   "source": [
    "%timeit [logits[0, i, token] for i, token in enumerate(sequences[0])]"
   ]
  },
  {
   "cell_type": "code",
   "execution_count": 9,
   "metadata": {},
   "outputs": [
    {
     "name": "stdout",
     "output_type": "stream",
     "text": [
      "3.31 µs ± 45.9 ns per loop (mean ± std. dev. of 7 runs, 100000 loops each)\n"
     ]
    }
   ],
   "source": [
    "%timeit logits[0, list(range(seq_len)), sequences[0]] "
   ]
  },
  {
   "cell_type": "markdown",
   "metadata": {},
   "source": [
    "## Optimization with batches."
   ]
  },
  {
   "cell_type": "code",
   "execution_count": 105,
   "metadata": {},
   "outputs": [
    {
     "name": "stdout",
     "output_type": "stream",
     "text": [
      "6.37 µs ± 241 ns per loop (mean ± std. dev. of 7 runs, 100000 loops each)\n"
     ]
    }
   ],
   "source": [
    "%timeit np.repeat(list(range(batch_size)), seq_len).reshape(-1, seq_len)"
   ]
  },
  {
   "cell_type": "code",
   "execution_count": 109,
   "metadata": {},
   "outputs": [
    {
     "name": "stdout",
     "output_type": "stream",
     "text": [
      "987 ns ± 19.1 ns per loop (mean ± std. dev. of 7 runs, 1000000 loops each)\n"
     ]
    }
   ],
   "source": [
    "%timeit  [[x] * seq_len for x in range(batch_size)]"
   ]
  },
  {
   "cell_type": "code",
   "execution_count": 122,
   "metadata": {},
   "outputs": [
    {
     "name": "stdout",
     "output_type": "stream",
     "text": [
      "1.51 µs ± 51.6 ns per loop (mean ± std. dev. of 7 runs, 1000000 loops each)\n"
     ]
    }
   ],
   "source": [
    "%timeit list(zip(*seq_len * [list(range(batch_size))]))"
   ]
  },
  {
   "cell_type": "code",
   "execution_count": 123,
   "metadata": {},
   "outputs": [
    {
     "data": {
      "text/plain": [
       "[(0, 0, 0, 0, 0, 0, 0, 0, 0, 0),\n",
       " (1, 1, 1, 1, 1, 1, 1, 1, 1, 1),\n",
       " (2, 2, 2, 2, 2, 2, 2, 2, 2, 2),\n",
       " (3, 3, 3, 3, 3, 3, 3, 3, 3, 3)]"
      ]
     },
     "execution_count": 123,
     "metadata": {},
     "output_type": "execute_result"
    }
   ],
   "source": [
    "list(zip(*seq_len * [list(range(batch_size))]))"
   ]
  },
  {
   "cell_type": "code",
   "execution_count": 111,
   "metadata": {},
   "outputs": [
    {
     "data": {
      "text/plain": [
       "[[0, 0, 0, 0, 0, 0, 0, 0, 0, 0],\n",
       " [1, 1, 1, 1, 1, 1, 1, 1, 1, 1],\n",
       " [2, 2, 2, 2, 2, 2, 2, 2, 2, 2],\n",
       " [3, 3, 3, 3, 3, 3, 3, 3, 3, 3]]"
      ]
     },
     "execution_count": 111,
     "metadata": {},
     "output_type": "execute_result"
    }
   ],
   "source": [
    "[[x] * seq_len for x in range(batch_size)]"
   ]
  },
  {
   "cell_type": "code",
   "execution_count": 97,
   "metadata": {},
   "outputs": [
    {
     "data": {
      "text/plain": [
       "array([[0, 0, 0, 0, 0, 0, 0, 0, 0, 0],\n",
       "       [1, 1, 1, 1, 1, 1, 1, 1, 1, 1],\n",
       "       [2, 2, 2, 2, 2, 2, 2, 2, 2, 2],\n",
       "       [3, 3, 3, 3, 3, 3, 3, 3, 3, 3]])"
      ]
     },
     "execution_count": 97,
     "metadata": {},
     "output_type": "execute_result"
    }
   ],
   "source": [
    "i1 = np.repeat(list(range(batch_size)), seq_len).reshape(-1, seq_len)\n",
    "i1"
   ]
  },
  {
   "cell_type": "code",
   "execution_count": 98,
   "metadata": {},
   "outputs": [
    {
     "data": {
      "text/plain": [
       "[[0, 1, 2, 3, 4, 5, 6, 7, 8, 9],\n",
       " [0, 1, 2, 3, 4, 5, 6, 7, 8, 9],\n",
       " [0, 1, 2, 3, 4, 5, 6, 7, 8, 9],\n",
       " [0, 1, 2, 3, 4, 5, 6, 7, 8, 9]]"
      ]
     },
     "execution_count": 98,
     "metadata": {},
     "output_type": "execute_result"
    }
   ],
   "source": [
    "i2 = batch_size * [list(range(seq_len))]\n",
    "i2"
   ]
  },
  {
   "cell_type": "code",
   "execution_count": 85,
   "metadata": {},
   "outputs": [
    {
     "data": {
      "text/plain": [
       "array([[187,  89, 153, 101,   3,  14, 157,  25,  71,  93],\n",
       "       [129, 109, 128,  46,  16,  77,  75, 126, 127, 142],\n",
       "       [ 68,  54, 146, 163, 103, 188,  38,   4,  60, 153],\n",
       "       [ 29, 183, 178,  31, 186,  73,  61, 143, 196, 149]])"
      ]
     },
     "execution_count": 85,
     "metadata": {},
     "output_type": "execute_result"
    }
   ],
   "source": [
    "sequences"
   ]
  },
  {
   "cell_type": "markdown",
   "metadata": {},
   "source": [
    "### Let's do it!"
   ]
  },
  {
   "cell_type": "code",
   "execution_count": 99,
   "metadata": {},
   "outputs": [
    {
     "data": {
      "text/plain": [
       "(4, 10)"
      ]
     },
     "execution_count": 99,
     "metadata": {},
     "output_type": "execute_result"
    }
   ],
   "source": [
    "logits[i1,i2, sequences].shape"
   ]
  },
  {
   "cell_type": "code",
   "execution_count": 101,
   "metadata": {},
   "outputs": [],
   "source": [
    "seq_scores2 = logits[i1,i2, sequences]"
   ]
  },
  {
   "cell_type": "code",
   "execution_count": 102,
   "metadata": {},
   "outputs": [
    {
     "data": {
      "text/plain": [
       "array([[ True,  True,  True,  True,  True,  True,  True,  True,  True,\n",
       "         True],\n",
       "       [ True,  True,  True,  True,  True,  True,  True,  True,  True,\n",
       "         True],\n",
       "       [ True,  True,  True,  True,  True,  True,  True,  True,  True,\n",
       "         True],\n",
       "       [ True,  True,  True,  True,  True,  True,  True,  True,  True,\n",
       "         True]])"
      ]
     },
     "execution_count": 102,
     "metadata": {},
     "output_type": "execute_result"
    }
   ],
   "source": [
    "seq_scores == seq_scores2"
   ]
  },
  {
   "cell_type": "markdown",
   "metadata": {},
   "source": [
    "### Tests."
   ]
  },
  {
   "cell_type": "code",
   "execution_count": 104,
   "metadata": {},
   "outputs": [
    {
     "name": "stdout",
     "output_type": "stream",
     "text": [
      "23.3 µs ± 393 ns per loop (mean ± std. dev. of 7 runs, 10000 loops each)\n"
     ]
    }
   ],
   "source": [
    "%timeit seq_scores = np.array([[logits[batch, step, token]for step, token in enumerate(sequence)] for batch, sequence in enumerate(sequences)])"
   ]
  },
  {
   "cell_type": "code",
   "execution_count": 107,
   "metadata": {},
   "outputs": [
    {
     "name": "stdout",
     "output_type": "stream",
     "text": [
      "15 µs ± 553 ns per loop (mean ± std. dev. of 7 runs, 100000 loops each)\n"
     ]
    }
   ],
   "source": [
    "%timeit logits[np.repeat(list(range(batch_size)), seq_len).reshape(-1, seq_len), batch_size * [list(range(seq_len))], sequences]"
   ]
  },
  {
   "cell_type": "code",
   "execution_count": 112,
   "metadata": {},
   "outputs": [
    {
     "name": "stdout",
     "output_type": "stream",
     "text": [
      "13.3 µs ± 257 ns per loop (mean ± std. dev. of 7 runs, 100000 loops each)\n"
     ]
    }
   ],
   "source": [
    "%timeit logits[[[x] * seq_len for x in range(batch_size)], batch_size * [list(range(seq_len))], sequences]"
   ]
  },
  {
   "cell_type": "markdown",
   "metadata": {},
   "source": [
    "---\n",
    "\n",
    "## Similar business but with tf"
   ]
  },
  {
   "cell_type": "code",
   "execution_count": 1,
   "metadata": {},
   "outputs": [],
   "source": [
    "import tensorflow as tf\n",
    "tf.enable_eager_execution() # for tf 1.14"
   ]
  },
  {
   "cell_type": "code",
   "execution_count": 2,
   "metadata": {},
   "outputs": [
    {
     "data": {
      "text/plain": [
       "'1.14.0'"
      ]
     },
     "execution_count": 2,
     "metadata": {},
     "output_type": "execute_result"
    }
   ],
   "source": [
    "tf.__version__"
   ]
  },
  {
   "cell_type": "markdown",
   "metadata": {},
   "source": [
    "### First fiddle, with batch size"
   ]
  },
  {
   "cell_type": "code",
   "execution_count": 3,
   "metadata": {},
   "outputs": [],
   "source": [
    "t = tf.cast(tf.random.normal(shape=(5,2,10))*100, tf.int32) "
   ]
  },
  {
   "cell_type": "code",
   "execution_count": 4,
   "metadata": {},
   "outputs": [
    {
     "data": {
      "text/plain": [
       "<tf.Tensor: id=8, shape=(5, 2, 10), dtype=int32, numpy=\n",
       "array([[[  -8,  -17,   13,  199,  -56,   29, -142, -229, -120,  105],\n",
       "        [ -88,   63, -160,   -1,   61,  -68, -190, -199,    0,  -19]],\n",
       "\n",
       "       [[ 196, -163,  162,  195,  117,  -71,  -69,    1,  179,   19],\n",
       "        [-106,  -61,  -99,   54,  178,  -35,   36,  -95,   -4, -155]],\n",
       "\n",
       "       [[ -86,    0,   12, -111,   27, -145,  107,  136,   37,  202],\n",
       "        [-100,    0,  112, -168,   -7,  -29,   82,   35,   90,   31]],\n",
       "\n",
       "       [[ 100,   62, -175,   35,  165,  -20, -149,    5,   21, -107],\n",
       "        [  89,   58,   38,  150,  -80,   45,  217,   76,   81,   53]],\n",
       "\n",
       "       [[ -70,   91,   90,  -42,  227,  235,  151,  -13,  -89,   20],\n",
       "        [   3,  -11,  -38,  102,    8,   13,  120,  -25, -217,  140]]],\n",
       "      dtype=int32)>"
      ]
     },
     "execution_count": 4,
     "metadata": {},
     "output_type": "execute_result"
    }
   ],
   "source": [
    "t"
   ]
  },
  {
   "cell_type": "code",
   "execution_count": 5,
   "metadata": {},
   "outputs": [],
   "source": [
    "ind = tf.cast(tf.random.uniform(shape=(5,2,1))*10, tf.int32)"
   ]
  },
  {
   "cell_type": "code",
   "execution_count": 6,
   "metadata": {},
   "outputs": [
    {
     "data": {
      "text/plain": [
       "<tf.Tensor: id=19, shape=(5, 2, 1), dtype=int32, numpy=\n",
       "array([[[1],\n",
       "        [7]],\n",
       "\n",
       "       [[5],\n",
       "        [4]],\n",
       "\n",
       "       [[8],\n",
       "        [7]],\n",
       "\n",
       "       [[6],\n",
       "        [5]],\n",
       "\n",
       "       [[9],\n",
       "        [8]]], dtype=int32)>"
      ]
     },
     "execution_count": 6,
     "metadata": {},
     "output_type": "execute_result"
    }
   ],
   "source": [
    "ind"
   ]
  },
  {
   "cell_type": "code",
   "execution_count": 58,
   "metadata": {},
   "outputs": [
    {
     "data": {
      "text/plain": [
       "<tf.Tensor: id=406, shape=(5, 2, 1), dtype=int32, numpy=\n",
       "array([[[0],\n",
       "        [0]],\n",
       "\n",
       "       [[1],\n",
       "        [1]],\n",
       "\n",
       "       [[2],\n",
       "        [2]],\n",
       "\n",
       "       [[3],\n",
       "        [3]],\n",
       "\n",
       "       [[4],\n",
       "        [4]]], dtype=int32)>"
      ]
     },
     "execution_count": 58,
     "metadata": {},
     "output_type": "execute_result"
    }
   ],
   "source": [
    "dim1 = tf.transpose(tf.reshape(tf.tile(tf.range(5), [2]), (2,5,1)), [1,0,2]) \n",
    "dim1"
   ]
  },
  {
   "cell_type": "code",
   "execution_count": 33,
   "metadata": {},
   "outputs": [
    {
     "data": {
      "text/plain": [
       "<tf.Tensor: id=165, shape=(5, 2, 1), dtype=int32, numpy=\n",
       "array([[[0],\n",
       "        [1]],\n",
       "\n",
       "       [[0],\n",
       "        [1]],\n",
       "\n",
       "       [[0],\n",
       "        [1]],\n",
       "\n",
       "       [[0],\n",
       "        [1]],\n",
       "\n",
       "       [[0],\n",
       "        [1]]], dtype=int32)>"
      ]
     },
     "execution_count": 33,
     "metadata": {},
     "output_type": "execute_result"
    }
   ],
   "source": [
    "dim2 = tf.reshape(tf.tile(tf.range(2), [5]), (5,2))[..., None]\n",
    "dim2"
   ]
  },
  {
   "cell_type": "code",
   "execution_count": 59,
   "metadata": {},
   "outputs": [
    {
     "data": {
      "text/plain": [
       "<tf.Tensor: id=409, shape=(5, 2, 3), dtype=int32, numpy=\n",
       "array([[[0, 0, 1],\n",
       "        [0, 1, 7]],\n",
       "\n",
       "       [[1, 0, 5],\n",
       "        [1, 1, 4]],\n",
       "\n",
       "       [[2, 0, 8],\n",
       "        [2, 1, 7]],\n",
       "\n",
       "       [[3, 0, 6],\n",
       "        [3, 1, 5]],\n",
       "\n",
       "       [[4, 0, 9],\n",
       "        [4, 1, 8]]], dtype=int32)>"
      ]
     },
     "execution_count": 59,
     "metadata": {},
     "output_type": "execute_result"
    }
   ],
   "source": [
    "indz = tf.concat([dim1, dim2, ind], axis=-1)\n",
    "indz"
   ]
  },
  {
   "cell_type": "code",
   "execution_count": 60,
   "metadata": {},
   "outputs": [
    {
     "data": {
      "text/plain": [
       "<tf.Tensor: id=8, shape=(5, 2, 10), dtype=int32, numpy=\n",
       "array([[[  -8,  -17,   13,  199,  -56,   29, -142, -229, -120,  105],\n",
       "        [ -88,   63, -160,   -1,   61,  -68, -190, -199,    0,  -19]],\n",
       "\n",
       "       [[ 196, -163,  162,  195,  117,  -71,  -69,    1,  179,   19],\n",
       "        [-106,  -61,  -99,   54,  178,  -35,   36,  -95,   -4, -155]],\n",
       "\n",
       "       [[ -86,    0,   12, -111,   27, -145,  107,  136,   37,  202],\n",
       "        [-100,    0,  112, -168,   -7,  -29,   82,   35,   90,   31]],\n",
       "\n",
       "       [[ 100,   62, -175,   35,  165,  -20, -149,    5,   21, -107],\n",
       "        [  89,   58,   38,  150,  -80,   45,  217,   76,   81,   53]],\n",
       "\n",
       "       [[ -70,   91,   90,  -42,  227,  235,  151,  -13,  -89,   20],\n",
       "        [   3,  -11,  -38,  102,    8,   13,  120,  -25, -217,  140]]],\n",
       "      dtype=int32)>"
      ]
     },
     "execution_count": 60,
     "metadata": {},
     "output_type": "execute_result"
    }
   ],
   "source": [
    "t"
   ]
  },
  {
   "cell_type": "code",
   "execution_count": 61,
   "metadata": {},
   "outputs": [
    {
     "data": {
      "text/plain": [
       "<tf.Tensor: id=412, shape=(5, 2), dtype=int32, numpy=\n",
       "array([[ -17, -199],\n",
       "       [ -71,  178],\n",
       "       [  37,   35],\n",
       "       [-149,   45],\n",
       "       [  20, -217]], dtype=int32)>"
      ]
     },
     "execution_count": 61,
     "metadata": {},
     "output_type": "execute_result"
    }
   ],
   "source": [
    "tf.gather_nd(t, indz)"
   ]
  },
  {
   "cell_type": "markdown",
   "metadata": {},
   "source": [
    "### Applied to the TF loop\n",
    "\n",
    "I. For the inside of the loop:"
   ]
  },
  {
   "cell_type": "code",
   "execution_count": 3,
   "metadata": {},
   "outputs": [],
   "source": [
    "import numpy as np\n",
    "import tensorflow as tf # no eager execution allowed when using the model\n",
    "from bridges import Model # don't forget to invoke jupyter with PYTHONPATH=src"
   ]
  },
  {
   "cell_type": "code",
   "execution_count": null,
   "metadata": {},
   "outputs": [],
   "source": [
    "BATCH_SIZE = 5\n",
    "m = Model(batch_size=BATCH_SIZE)"
   ]
  },
  {
   "cell_type": "code",
   "execution_count": 54,
   "metadata": {},
   "outputs": [],
   "source": [
    "tkns, logits = m.run(prefix='Un test, encore un test.')"
   ]
  },
  {
   "cell_type": "code",
   "execution_count": 48,
   "metadata": {},
   "outputs": [
    {
     "data": {
      "text/plain": [
       "<tf.Tensor 'strided_slice_10:0' shape=(1, 7) dtype=int64>"
      ]
     },
     "execution_count": 48,
     "metadata": {},
     "output_type": "execute_result"
    }
   ],
   "source": [
    "tf.convert_to_tensor(m.encode('Un test, encore un test'))[None,:]"
   ]
  },
  {
   "cell_type": "code",
   "execution_count": 60,
   "metadata": {},
   "outputs": [],
   "source": [
    "next_output = m.step(tf.convert_to_tensor(tkns))"
   ]
  },
  {
   "cell_type": "code",
   "execution_count": 61,
   "metadata": {},
   "outputs": [],
   "source": [
    "next_logits = next_output['logits']"
   ]
  },
  {
   "cell_type": "code",
   "execution_count": 62,
   "metadata": {},
   "outputs": [
    {
     "data": {
      "text/plain": [
       "TensorShape([Dimension(5), Dimension(13), Dimension(50257)])"
      ]
     },
     "execution_count": 62,
     "metadata": {},
     "output_type": "execute_result"
    }
   ],
   "source": [
    "next_logits.shape"
   ]
  },
  {
   "cell_type": "code",
   "execution_count": 63,
   "metadata": {},
   "outputs": [],
   "source": [
    "last_logits = next_logits[:, -1, :]"
   ]
  },
  {
   "cell_type": "code",
   "execution_count": 64,
   "metadata": {},
   "outputs": [
    {
     "data": {
      "text/plain": [
       "TensorShape([Dimension(5), Dimension(50257)])"
      ]
     },
     "execution_count": 64,
     "metadata": {},
     "output_type": "execute_result"
    }
   ],
   "source": [
    "last_logits.shape"
   ]
  },
  {
   "cell_type": "code",
   "execution_count": 65,
   "metadata": {},
   "outputs": [],
   "source": [
    "samples = tf.random.categorical(last_logits, num_samples=1, dtype=tf.int32)"
   ]
  },
  {
   "cell_type": "code",
   "execution_count": 73,
   "metadata": {},
   "outputs": [
    {
     "data": {
      "text/plain": [
       "TensorShape([Dimension(5), Dimension(1)])"
      ]
     },
     "execution_count": 73,
     "metadata": {},
     "output_type": "execute_result"
    }
   ],
   "source": [
    "samples.shape"
   ]
  },
  {
   "cell_type": "code",
   "execution_count": 68,
   "metadata": {},
   "outputs": [],
   "source": [
    "indz = tf.concat([tf.range(BATCH_SIZE)[:, None], samples], axis=-1)"
   ]
  },
  {
   "cell_type": "code",
   "execution_count": 69,
   "metadata": {},
   "outputs": [
    {
     "data": {
      "text/plain": [
       "TensorShape([Dimension(5), Dimension(2)])"
      ]
     },
     "execution_count": 69,
     "metadata": {},
     "output_type": "execute_result"
    }
   ],
   "source": [
    "indz.shape"
   ]
  },
  {
   "cell_type": "code",
   "execution_count": 76,
   "metadata": {},
   "outputs": [],
   "source": [
    "scores = tf.gather_nd(last_logits, indz)[..., None]"
   ]
  },
  {
   "cell_type": "code",
   "execution_count": 77,
   "metadata": {},
   "outputs": [
    {
     "data": {
      "text/plain": [
       "TensorShape([Dimension(5), Dimension(1)])"
      ]
     },
     "execution_count": 77,
     "metadata": {},
     "output_type": "execute_result"
    }
   ],
   "source": [
    "scores.shape"
   ]
  },
  {
   "cell_type": "markdown",
   "metadata": {},
   "source": [
    "II. Before the loop"
   ]
  },
  {
   "cell_type": "code",
   "execution_count": 10,
   "metadata": {},
   "outputs": [
    {
     "data": {
      "text/plain": [
       "<tf.Tensor 'sub_1:0' shape=() dtype=int32>"
      ]
     },
     "execution_count": 10,
     "metadata": {},
     "output_type": "execute_result"
    }
   ],
   "source": [
    "t = tf.compat.v1.placeholder(tf.int32, [5, None])\n",
    "tf.shape(t)[-1] - 1 # using tf.shape() to manipulate shapes instead of the .shape method"
   ]
  },
  {
   "cell_type": "code",
   "execution_count": 4,
   "metadata": {},
   "outputs": [],
   "source": [
    "# extract scores for existing context\n",
    "def get_scores(context, context_output, scope='scores'):\n",
    "    seq_len = tf.shape(context)[-1]\n",
    "    # batch dim, shape: (batch_size, seq_len, 1)\n",
    "    # [[[0],[0],...],[[1],[1],...],...]\n",
    "    dim0 = tf.transpose(\n",
    "        tf.reshape(\n",
    "            tf.tile(tf.range(BATCH_SIZE), [seq_len]),\n",
    "            [seq_len, BATCH_SIZE, 1],\n",
    "        ),\n",
    "        tf.constant([1, 0, 2]),\n",
    "        name='dim0',\n",
    "    )\n",
    "    # seq dim, shape: (batch_size, seq_len, 1)\n",
    "    # [[[0],[1],...],[[0],[1],...],...]\n",
    "    dim1 = tf.reshape(\n",
    "        tf.tile(tf.range(seq_len), [BATCH_SIZE]),\n",
    "        [BATCH_SIZE, seq_len],\n",
    "        name='dim1',\n",
    "    )[..., None]\n",
    "    # context holds the actual token indices\n",
    "    # shape: (batch_size, seq_len, 1)\n",
    "    # [[[234],[22203],...],[[2388],[1144],...],...]\n",
    "    # all indices together as a tensor\n",
    "    # shape: (batch_size, seq_len, num_dims==3)\n",
    "    # add None at the end to make the shape adequate\n",
    "    indz = tf.concat([dim0, dim1, context[...,None]], axis=-1, name='indz')\n",
    "    # extract the logits & maintain dimension\n",
    "    # shape: (batch_size, seq_len)\n",
    "    scores = tf.gather_nd(context_output['logits'], indz) # [..., None]\n",
    "    return scores # tf.squeeze(scores)"
   ]
  },
  {
   "cell_type": "code",
   "execution_count": 92,
   "metadata": {},
   "outputs": [
    {
     "data": {
      "text/plain": [
       "<tf.Tensor 'strided_slice_156:0' shape=(5, 6, 1) dtype=int32>"
      ]
     },
     "execution_count": 92,
     "metadata": {},
     "output_type": "execute_result"
    }
   ],
   "source": [
    "context = tf.convert_to_tensor(m.encode('Un test, encore un test'), dtype=tf.int32)[None,:]\n",
    "context_trunc = context[:, :-1]\n",
    "context = tf.broadcast_to(context_trunc, [BATCH_SIZE, context_trunc.shape[-1]])\n",
    "context[..., None]"
   ]
  },
  {
   "cell_type": "code",
   "execution_count": 93,
   "metadata": {},
   "outputs": [],
   "source": [
    "context_output = m.step(tf.broadcast_to(context[:, :-1], (BATCH_SIZE, tf.shape(context[:, :-1])[-1])))"
   ]
  },
  {
   "cell_type": "code",
   "execution_count": 94,
   "metadata": {},
   "outputs": [
    {
     "data": {
      "text/plain": [
       "TensorShape([Dimension(5), Dimension(5), Dimension(50257)])"
      ]
     },
     "execution_count": 94,
     "metadata": {},
     "output_type": "execute_result"
    }
   ],
   "source": [
    "context_output['logits'].shape"
   ]
  },
  {
   "cell_type": "code",
   "execution_count": 95,
   "metadata": {},
   "outputs": [],
   "source": [
    "scores = get_scores(context, context_output)"
   ]
  },
  {
   "cell_type": "code",
   "execution_count": 96,
   "metadata": {},
   "outputs": [
    {
     "data": {
      "text/plain": [
       "<tf.Tensor 'Squeeze:0' shape=(5, 6) dtype=float32>"
      ]
     },
     "execution_count": 96,
     "metadata": {},
     "output_type": "execute_result"
    }
   ],
   "source": [
    "scores"
   ]
  },
  {
   "cell_type": "markdown",
   "metadata": {},
   "source": [
    "## Test shit"
   ]
  },
  {
   "cell_type": "code",
   "execution_count": 1,
   "metadata": {},
   "outputs": [],
   "source": [
    "import numpy as np\n",
    "import tensorflow as tf\n",
    "from bridges import Model"
   ]
  },
  {
   "cell_type": "code",
   "execution_count": 2,
   "metadata": {},
   "outputs": [
    {
     "name": "stdout",
     "output_type": "stream",
     "text": [
      "Loading checkpoint checkpoint/run1/model-310052\n",
      "WARNING:tensorflow:From /home/jcw/anaconda3/envs/tf14/lib/python3.7/site-packages/tensorflow/python/training/saver.py:1276: checkpoint_exists (from tensorflow.python.training.checkpoint_management) is deprecated and will be removed in a future version.\n",
      "Instructions for updating:\n",
      "Use standard file APIs to check for files with this prefix.\n",
      "INFO:tensorflow:Restoring parameters from checkpoint/run1/model-310052\n",
      "WARNING:tensorflow:From /home/jcw/dl/gpt/bridges/bridges.py:195: add_dispatch_support.<locals>.wrapper (from tensorflow.python.ops.array_ops) is deprecated and will be removed in a future version.\n",
      "Instructions for updating:\n",
      "Use tf.where in 2.0, which has the same broadcast rule as np.where\n"
     ]
    }
   ],
   "source": [
    "BATCH_SIZE = 1\n",
    "m = Model(batch_size=BATCH_SIZE)"
   ]
  },
  {
   "cell_type": "code",
   "execution_count": 3,
   "metadata": {},
   "outputs": [],
   "source": [
    "pref = 'Enfin, terre en vue !'"
   ]
  },
  {
   "cell_type": "code",
   "execution_count": 4,
   "metadata": {},
   "outputs": [
    {
     "data": {
      "text/plain": [
       "[\"Enfin, terre en vue ! Et pourquoi perdre un opposer à un plus digne ? \\n<|e|>\\n<|s|>\\nUN DRAMATURGE.\\nUn Dieu n'aurait pu nier l'\"]"
      ]
     },
     "execution_count": 4,
     "metadata": {},
     "output_type": "execute_result"
    }
   ],
   "source": [
    "m.gen(pref, length=50)"
   ]
  },
  {
   "cell_type": "code",
   "execution_count": 5,
   "metadata": {},
   "outputs": [],
   "source": [
    "tkns, logits, scores = m.run(prefix=pref, length=20)"
   ]
  },
  {
   "cell_type": "code",
   "execution_count": 6,
   "metadata": {},
   "outputs": [
    {
     "data": {
      "text/plain": [
       "['Enfin, terre en vue !... Les morts!...\\nSors de la vie, roi !...\\nTon']"
      ]
     },
     "execution_count": 6,
     "metadata": {},
     "output_type": "execute_result"
    }
   ],
   "source": [
    "m.decode(tkns)"
   ]
  },
  {
   "cell_type": "code",
   "execution_count": 7,
   "metadata": {},
   "outputs": [
    {
     "name": "stdout",
     "output_type": "stream",
     "text": [
      "(1, 29)\n",
      "(1, 28, 50257)\n",
      "(1, 28)\n"
     ]
    }
   ],
   "source": [
    "print(tkns.shape)\n",
    "print(logits.shape)\n",
    "print(scores.shape)"
   ]
  },
  {
   "cell_type": "code",
   "execution_count": 8,
   "metadata": {},
   "outputs": [
    {
     "data": {
      "text/plain": [
       "array([ 4834, 15643,    11,  1059,   260,   551,   410,   518,  5145])"
      ]
     },
     "execution_count": 8,
     "metadata": {},
     "output_type": "execute_result"
    }
   ],
   "source": [
    "m.encode(pref)"
   ]
  },
  {
   "cell_type": "code",
   "execution_count": 9,
   "metadata": {},
   "outputs": [
    {
     "name": "stdout",
     "output_type": "stream",
     "text": [
      "15643 | logits:  11.503969192504883 | scores:  11.503969192504883 | equal? True\n",
      "   11 | logits:   3.136012077331543 | scores:   3.136012077331543 | equal? True\n",
      " 1059 | logits:  -5.107397079467773 | scores:  -5.107397079467773 | equal? True\n",
      "  260 | logits:  -0.292673587799072 | scores:  -0.292673587799072 | equal? True\n",
      "  551 | logits:  -1.491103053092957 | scores:  -1.491103053092957 | equal? True\n",
      "  410 | logits:   0.634380936622620 | scores:   0.634380936622620 | equal? True\n",
      "  518 | logits:  12.381002426147461 | scores:  12.381002426147461 | equal? True\n",
      " 5145 | logits:   1.426407456398010 | scores:   1.426407456398010 | equal? True\n",
      "  986 | logits:   6.640454292297363 | scores:   6.640454292297363 | equal? True\n",
      "11732 | logits:   6.201367855072021 | scores:   6.201367855072021 | equal? True\n",
      "  285 | logits:   0.851854741573334 | scores:   0.851854741573334 | equal? True\n",
      " 2096 | logits:  13.047116279602051 | scores:  13.047116279602051 | equal? True\n",
      "    0 | logits:   0.398846089839935 | scores:   0.398846089839935 | equal? True\n",
      "  986 | logits:   5.810481071472168 | scores:   5.810481071472168 | equal? True\n",
      "  198 | logits:   9.751972198486328 | scores:   9.751972198486328 | equal? True\n",
      "   50 | logits:  21.451267242431641 | scores:  21.451267242431641 | equal? True\n",
      "  669 | logits:   9.717800140380859 | scores:   9.717800140380859 | equal? True\n",
      "  390 | logits:   1.481474876403809 | scores:   1.481474876403809 | equal? True\n",
      " 8591 | logits:  -0.304078340530396 | scores:  -0.304078340530396 | equal? True\n",
      "  410 | logits:  -1.125275135040283 | scores:  -1.125275135040283 | equal? True\n",
      "  494 | logits:   8.737711906433105 | scores:   8.737711906433105 | equal? True\n",
      "   11 | logits:   0.380374372005463 | scores:   0.380374372005463 | equal? True\n",
      "  686 | logits:  -3.356550693511963 | scores:  -3.356550693511963 | equal? True\n",
      "   72 | logits:  13.303459167480469 | scores:  13.303459167480469 | equal? True\n",
      " 5145 | logits:   4.905643463134766 | scores:   4.905643463134766 | equal? True\n",
      "  986 | logits:   6.314441204071045 | scores:   6.314441204071045 | equal? True\n",
      "  198 | logits:   9.768773078918457 | scores:   9.768773078918457 | equal? True\n",
      "35416 | logits:  21.299966812133789 | scores:  21.299966812133789 | equal? True\n"
     ]
    }
   ],
   "source": [
    "for i, tkn in enumerate(tkns[0, 1:]):\n",
    "    print(f\"{tkn:5} | logits: {logits[0, i, tkn]:19.15f} | scores: {scores[0, i]:19.15f} | equal? {logits[0, i, tkn] == scores[0, i]}\")"
   ]
  },
  {
   "cell_type": "code",
   "execution_count": 10,
   "metadata": {},
   "outputs": [
    {
     "data": {
      "text/plain": [
       "(1, 28)"
      ]
     },
     "execution_count": 10,
     "metadata": {},
     "output_type": "execute_result"
    }
   ],
   "source": [
    "scores.shape"
   ]
  },
  {
   "cell_type": "code",
   "execution_count": 27,
   "metadata": {},
   "outputs": [
    {
     "name": "stdout",
     "output_type": "stream",
     "text": [
      "(1, 1)\n",
      "[[0.00361072]]\n"
     ]
    }
   ],
   "source": [
    "print(m._perplexities(scores).shape)\n",
    "print(m._perplexities(scores))"
   ]
  },
  {
   "cell_type": "code",
   "execution_count": 12,
   "metadata": {},
   "outputs": [
    {
     "data": {
      "text/plain": [
       "array([11.503969  ,  3.136012  , -5.107397  , -0.2926736 , -1.491103  ,\n",
       "        0.63438094, 12.381002  ,  1.4264075 ,  6.6404543 ,  6.201368  ,\n",
       "        0.85185474, 13.047116  ,  0.3988461 ,  5.810481  ,  9.751972  ,\n",
       "       21.451267  ,  9.7178    ,  1.4814749 , -0.30407834, -1.1252751 ,\n",
       "        8.737712  ,  0.38037437, -3.3565507 , 13.303459  ,  4.9056435 ,\n",
       "        6.314441  ,  9.768773  , 21.299967  ], dtype=float32)"
      ]
     },
     "execution_count": 12,
     "metadata": {},
     "output_type": "execute_result"
    }
   ],
   "source": [
    "scores[0]"
   ]
  },
  {
   "cell_type": "code",
   "execution_count": 13,
   "metadata": {},
   "outputs": [
    {
     "data": {
      "text/plain": [
       "array([0.00361072], dtype=float32)"
      ]
     },
     "execution_count": 13,
     "metadata": {},
     "output_type": "execute_result"
    }
   ],
   "source": [
    "2** (-np.mean(np.log2(np.exp(scores)), axis=-1))"
   ]
  },
  {
   "cell_type": "code",
   "execution_count": 14,
   "metadata": {},
   "outputs": [
    {
     "data": {
      "text/plain": [
       "['Enfin, terre en vue !... Les morts!...\\nSors de la vie, roi !...\\nTon']"
      ]
     },
     "execution_count": 14,
     "metadata": {},
     "output_type": "execute_result"
    }
   ],
   "source": [
    "m.decode(tkns)"
   ]
  },
  {
   "cell_type": "code",
   "execution_count": 15,
   "metadata": {},
   "outputs": [],
   "source": [
    "perp, new_scores = m.get_perplexity(m.decode(tkns), verbose=True)"
   ]
  },
  {
   "cell_type": "code",
   "execution_count": 16,
   "metadata": {},
   "outputs": [
    {
     "data": {
      "text/plain": [
       "[0.0036107247797443048]"
      ]
     },
     "execution_count": 16,
     "metadata": {},
     "output_type": "execute_result"
    }
   ],
   "source": [
    "perp"
   ]
  },
  {
   "cell_type": "code",
   "execution_count": 17,
   "metadata": {},
   "outputs": [
    {
     "data": {
      "text/plain": [
       "11.503969"
      ]
     },
     "execution_count": 17,
     "metadata": {},
     "output_type": "execute_result"
    }
   ],
   "source": [
    "scores[0,0]"
   ]
  },
  {
   "cell_type": "code",
   "execution_count": 18,
   "metadata": {},
   "outputs": [
    {
     "data": {
      "text/plain": [
       "11.503971"
      ]
     },
     "execution_count": 18,
     "metadata": {},
     "output_type": "execute_result"
    }
   ],
   "source": [
    "new_scores[0][0]"
   ]
  },
  {
   "cell_type": "code",
   "execution_count": 19,
   "metadata": {},
   "outputs": [
    {
     "data": {
      "text/plain": [
       "[array([11.503971  ,  3.136012  , -5.107394  , -0.2926668 , -1.491106  ,\n",
       "         0.634385  , 12.381016  ,  1.4264045 ,  6.6404533 ,  6.2013693 ,\n",
       "         0.851856  , 13.047118  ,  0.39884567,  5.810483  ,  9.751966  ,\n",
       "        21.45126   ,  9.717806  ,  1.4814708 , -0.3040843 , -1.1252761 ,\n",
       "         8.737706  ,  0.38037157, -3.3565495 , 13.303463  ,  4.9056478 ,\n",
       "         6.314447  ,  9.7687645 , 21.29997   ], dtype=float32)]"
      ]
     },
     "execution_count": 19,
     "metadata": {},
     "output_type": "execute_result"
    }
   ],
   "source": [
    "new_scores"
   ]
  },
  {
   "cell_type": "code",
   "execution_count": 20,
   "metadata": {},
   "outputs": [
    {
     "data": {
      "text/plain": [
       "28"
      ]
     },
     "execution_count": 20,
     "metadata": {},
     "output_type": "execute_result"
    }
   ],
   "source": [
    "len(scores[0])"
   ]
  }
 ],
 "metadata": {
  "kernelspec": {
   "display_name": "Python 3",
   "language": "python",
   "name": "python3"
  },
  "language_info": {
   "codemirror_mode": {
    "name": "ipython",
    "version": 3
   },
   "file_extension": ".py",
   "mimetype": "text/x-python",
   "name": "python",
   "nbconvert_exporter": "python",
   "pygments_lexer": "ipython3",
   "version": "3.7.6"
  }
 },
 "nbformat": 4,
 "nbformat_minor": 4
}
