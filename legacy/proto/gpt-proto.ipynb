{
 "cells": [
  {
   "cell_type": "code",
   "execution_count": null,
   "metadata": {},
   "outputs": [],
   "source": [
    "import sys\n",
    "sys.path.append('src')\n",
    "import numpy as np\n",
    "import tensorflow as tf\n",
    "from bridges import Model"
   ]
  },
  {
   "cell_type": "code",
   "execution_count": null,
   "metadata": {},
   "outputs": [],
   "source": [
    "m = Model()"
   ]
  },
  {
   "cell_type": "code",
   "execution_count": 3,
   "metadata": {},
   "outputs": [
    {
     "data": {
      "text/plain": [
       "['blah blah lands brand Erivo']"
      ]
     },
     "execution_count": 3,
     "metadata": {},
     "output_type": "execute_result"
    }
   ],
   "source": [
    "m.gen('blah blah')"
   ]
  },
  {
   "cell_type": "code",
   "execution_count": 4,
   "metadata": {},
   "outputs": [
    {
     "data": {
      "text/plain": [
       "[1.8894916417395395e-11,\n",
       " 0.47583382625762644,\n",
       " 27.807541394629368,\n",
       " 13.550047569507374,\n",
       " 0.23373841038785506,\n",
       " 0.014499136818132474,\n",
       " 10.291338561383506]"
      ]
     },
     "execution_count": 4,
     "metadata": {},
     "output_type": "execute_result"
    }
   ],
   "source": [
    "m.get_perplexity(\n",
    "    [\n",
    "     '\\n', \n",
    "     'blah blah', \n",
    "     'blah blah les loups vont au bois', \n",
    "     'J\\'aurais dû m\\'imaginer au tout début qu\\'il y aurait embûches et chausse-trappes',\n",
    "     'sdhr23g',\n",
    "     'aaaaaaaaaaaaaaaaaaaaaaaaaaaaaaaaaaaaaaaaa',\n",
    "     'One could imagine something else as well.'\n",
    "    ]\n",
    ")"
   ]
  },
  {
   "cell_type": "code",
   "execution_count": 3,
   "metadata": {},
   "outputs": [
    {
     "data": {
      "text/plain": [
       "[0.47583382625762644, 27.807541394629368]"
      ]
     },
     "execution_count": 3,
     "metadata": {},
     "output_type": "execute_result"
    }
   ],
   "source": [
    "m.get_perplexity(['blah blah', 'blah blah les loups vont au bois'])"
   ]
  },
  {
   "cell_type": "code",
   "execution_count": 6,
   "metadata": {},
   "outputs": [
    {
     "name": "stdout",
     "output_type": "stream",
     "text": [
      "(Batch size changed from 1 to 2, resetting graph.)\n"
     ]
    },
    {
     "data": {
      "text/plain": [
       "array([6.7786068e-08, 2.7807615e+01], dtype=float32)"
      ]
     },
     "execution_count": 6,
     "metadata": {},
     "output_type": "execute_result"
    }
   ],
   "source": [
    "m.get_perplexity(['blah blah', 'blah blah les loups vont au bois'])"
   ]
  },
  {
   "cell_type": "code",
   "execution_count": 8,
   "metadata": {},
   "outputs": [
    {
     "name": "stdout",
     "output_type": "stream",
     "text": [
      "blah blah [0.47583383]\n",
      "blah blah les loups vont au bois [27.80754]\n"
     ]
    }
   ],
   "source": [
    "for s in ['blah blah', 'blah blah les loups vont au bois']:\n",
    "    print(s, m.get_perplexity(s))"
   ]
  },
  {
   "cell_type": "code",
   "execution_count": 29,
   "metadata": {},
   "outputs": [],
   "source": [
    "def print_lists(ll):\n",
    "    if not isinstance(ll[0],(list, tuple, np.ndarray)):\n",
    "        print(ll)\n",
    "    else:\n",
    "        print(*ll, sep='\\n')    "
   ]
  },
  {
   "cell_type": "code",
   "execution_count": 30,
   "metadata": {},
   "outputs": [],
   "source": [
    "def normalize(logits, verbose=False):\n",
    "    mu = np.mean(logits, axis=-1, keepdims=True)\n",
    "    lm = logits - mu\n",
    "    le = np.exp(lm)\n",
    "    logprobs = le / np.sum(le, axis=-1, keepdims=True)\n",
    "    if verbose:\n",
    "        return logprobs, mu, lm, le\n",
    "    return logprobs"
   ]
  },
  {
   "cell_type": "code",
   "execution_count": 37,
   "metadata": {},
   "outputs": [],
   "source": [
    "logprobs, mu, lm, le = normalize(logits, verbose=True)"
   ]
  },
  {
   "cell_type": "code",
   "execution_count": 38,
   "metadata": {},
   "outputs": [
    {
     "data": {
      "text/plain": [
       "7.638048"
      ]
     },
     "execution_count": 38,
     "metadata": {},
     "output_type": "execute_result"
    }
   ],
   "source": [
    "np.mean(logits[0,0])"
   ]
  },
  {
   "cell_type": "code",
   "execution_count": 39,
   "metadata": {},
   "outputs": [
    {
     "data": {
      "text/plain": [
       "array([7.638048], dtype=float32)"
      ]
     },
     "execution_count": 39,
     "metadata": {},
     "output_type": "execute_result"
    }
   ],
   "source": [
    "mu[0,0]"
   ]
  },
  {
   "cell_type": "code",
   "execution_count": 40,
   "metadata": {},
   "outputs": [
    {
     "data": {
      "text/plain": [
       "array([ True])"
      ]
     },
     "execution_count": 40,
     "metadata": {},
     "output_type": "execute_result"
    }
   ],
   "source": [
    "lm[0,0,0] == logits[0,0,0] - mu[0,0]"
   ]
  },
  {
   "cell_type": "code",
   "execution_count": 41,
   "metadata": {},
   "outputs": [
    {
     "data": {
      "text/plain": [
       "True"
      ]
     },
     "execution_count": 41,
     "metadata": {},
     "output_type": "execute_result"
    }
   ],
   "source": [
    "np.exp(lm[0,0,0]) == le[0,0,0]"
   ]
  },
  {
   "cell_type": "code",
   "execution_count": 42,
   "metadata": {},
   "outputs": [
    {
     "data": {
      "text/plain": [
       "(4, 12, 1)"
      ]
     },
     "execution_count": 42,
     "metadata": {},
     "output_type": "execute_result"
    }
   ],
   "source": [
    "np.sum(le, axis=-1, keepdims=True).shape"
   ]
  },
  {
   "cell_type": "code",
   "execution_count": 43,
   "metadata": {},
   "outputs": [
    {
     "data": {
      "text/plain": [
       "array([14673772.], dtype=float32)"
      ]
     },
     "execution_count": 43,
     "metadata": {},
     "output_type": "execute_result"
    }
   ],
   "source": [
    "np.sum(le, axis=-1, keepdims=True)[0,0]"
   ]
  },
  {
   "cell_type": "code",
   "execution_count": 44,
   "metadata": {},
   "outputs": [
    {
     "data": {
      "text/plain": [
       "True"
      ]
     },
     "execution_count": 44,
     "metadata": {},
     "output_type": "execute_result"
    }
   ],
   "source": [
    "logprobs[0,0,0] == le[0,0,0] / np.sum(le, axis=-1, keepdims=True)[0,0, 0]"
   ]
  },
  {
   "cell_type": "code",
   "execution_count": 207,
   "metadata": {},
   "outputs": [],
   "source": [
    "def get_perplexity(model, sentences=[\"\\n\"], batch_size=None, verbose=False):\n",
    "#     # save current batch_size\n",
    "#     batch_size_bak=None\n",
    "#     if batch_size is not None and self.batch_size != batch_size:\n",
    "#         batch_size_bak = self.batch_size\n",
    "#     model.check_batch_size(batch_size)\n",
    "    if isinstance(sentences, str):\n",
    "        sentences = [sentences]\n",
    "    tkns = model.pad_sequences(sentences)\n",
    "    print('sequences:')\n",
    "    print_lists(tkns)\n",
    "    \n",
    "    # don't take the last one (predicting the token after our sentence)        \n",
    "    logits = model.get_logits(context_tokens=tkns)[:, :-1, :] \n",
    "    \n",
    "    print(\"logits, shape:\", logits.shape)\n",
    "    \n",
    "    # normalization between 0 and 1\n",
    "    # most importantly: make all \n",
    "    logprobs = normalize(logits)\n",
    "    print(\"logprobs, shape:\", logprobs.shape)\n",
    " \n",
    "    scores = np.nan_to_num([\n",
    "        [logprobs[j, i, token] for i, token in enumerate(seq[:-1])] for j, seq in enumerate(tkns)\n",
    "    ])    \n",
    "    print(\"scores, shape:\", scores.shape)\n",
    "    perplexities = 2 ** (-np.mean(np.log2(scores), axis=-1))\n",
    "    return perplexities\n",
    "\n",
    "#     # restoring batch size \n",
    "#     if batch_size_bak: model.check_batch_size(batch_size_bak)    \n",
    "#     return perplexities"
   ]
  },
  {
   "cell_type": "code",
   "execution_count": 208,
   "metadata": {},
   "outputs": [],
   "source": [
    "snt = [\n",
    "    \"Ah, nous voilà bien\",\n",
    "    \"Je me baladais dans le gris sans fond\",\n",
    "    \"LE COMTE. Quel déshonneur !\",\n",
    "    \"Ah.\"\n",
    "]"
   ]
  },
  {
   "cell_type": "markdown",
   "metadata": {},
   "source": [
    "## Experiments with padding sentences"
   ]
  },
  {
   "cell_type": "code",
   "execution_count": 211,
   "metadata": {},
   "outputs": [
    {
     "data": {
      "text/plain": [
       "(4, 12, 50257)"
      ]
     },
     "execution_count": 211,
     "metadata": {},
     "output_type": "execute_result"
    }
   ],
   "source": [
    "m.get_logits(context_tokens=m.pad_sequences(snt)).shape"
   ]
  },
  {
   "cell_type": "code",
   "execution_count": 212,
   "metadata": {},
   "outputs": [
    {
     "data": {
      "text/plain": [
       "(4, 11, 50257)"
      ]
     },
     "execution_count": 212,
     "metadata": {},
     "output_type": "execute_result"
    }
   ],
   "source": [
    "m.get_logits(context_tokens=m.pad_sequences(snt))[:, :-1, :].shape"
   ]
  },
  {
   "cell_type": "code",
   "execution_count": 209,
   "metadata": {},
   "outputs": [
    {
     "name": "stdout",
     "output_type": "stream",
     "text": [
      "sequences:\n",
      "[  220   220   220 10910    11   299   516  7608   346 24247   275  2013]\n",
      "[40932   502  3652  4763   271   288   504   443  1036   271 38078 16245]\n",
      "[  220  2538  9440  9328    13  2264   417 39073  1477 47476   333  5145]\n",
      "[  220   220   220   220   220   220   220   220   220   220 10910    13]\n",
      "logits, shape: (4, 11, 50257)\n",
      "logprobs, shape: (4, 11, 50257)\n",
      "scores, shape: (4, 11)\n",
      "('Ah, nous voilà bien', 77367.34)\n",
      "('Je me baladais dans le gris sans fond', 188906.8)\n",
      "('LE COMTE. Quel déshonneur !', 2907181.0)\n",
      "('Ah.', 2.7888317)\n"
     ]
    }
   ],
   "source": [
    "print(*zip(snt, get_perplexity(m, snt)), sep='\\n')"
   ]
  },
  {
   "cell_type": "code",
   "execution_count": 48,
   "metadata": {},
   "outputs": [],
   "source": [
    "padded = m.pad_sequences(snt)\n",
    "logits = m.get_logits(padded)"
   ]
  },
  {
   "cell_type": "code",
   "execution_count": 49,
   "metadata": {},
   "outputs": [
    {
     "data": {
      "text/plain": [
       "(4, 12, 50257)"
      ]
     },
     "execution_count": 49,
     "metadata": {},
     "output_type": "execute_result"
    }
   ],
   "source": [
    "logits.shape"
   ]
  },
  {
   "cell_type": "code",
   "execution_count": 340,
   "metadata": {},
   "outputs": [],
   "source": [
    "logprobs = normalize(logits)"
   ]
  },
  {
   "cell_type": "code",
   "execution_count": 341,
   "metadata": {},
   "outputs": [
    {
     "data": {
      "text/plain": [
       "(4, 12, 50257)"
      ]
     },
     "execution_count": 341,
     "metadata": {},
     "output_type": "execute_result"
    }
   ],
   "source": [
    "logprobs.shape"
   ]
  },
  {
   "cell_type": "code",
   "execution_count": 343,
   "metadata": {},
   "outputs": [],
   "source": [
    "scores = np.nan_to_num([[logprobs[j, i, token] \n",
    " for i, token in enumerate(batch[:-1])]\n",
    " for j, batch in enumerate(padded)])"
   ]
  },
  {
   "cell_type": "code",
   "execution_count": 344,
   "metadata": {},
   "outputs": [],
   "source": [
    "perplexities = 2 ** (-np.mean(np.log2(scores), axis=-1))"
   ]
  },
  {
   "cell_type": "code",
   "execution_count": 347,
   "metadata": {},
   "outputs": [
    {
     "name": "stdout",
     "output_type": "stream",
     "text": [
      "77367.34\n",
      "188906.8\n",
      "2907181.0\n",
      "2.7888317\n"
     ]
    }
   ],
   "source": [
    "print(*perplexities, sep='\\n')"
   ]
  },
  {
   "cell_type": "markdown",
   "metadata": {},
   "source": [
    "## Profiling & optimizing\n",
    "\n",
    "Experiments with speed & array indexing when retrieving the scores (see `logit_extraction.ipynb`)."
   ]
  },
  {
   "cell_type": "code",
   "execution_count": 251,
   "metadata": {},
   "outputs": [
    {
     "data": {
      "text/plain": [
       "array([[14.289879 ,  9.88566  , 10.730696 , ...,  5.7731833,  6.458465 ,\n",
       "         5.841981 ],\n",
       "       [ 3.1374109,  1.3310282,  4.4881535, ...,  3.720184 ,  3.8290942,\n",
       "         3.7567344],\n",
       "       [ 3.4757946,  0.8460077,  4.568767 , ...,  3.2985313,  3.3040564,\n",
       "         3.3131304],\n",
       "       ...,\n",
       "       [ 2.0084343, -8.294467 , -6.12812  , ..., -9.5075   , -9.178121 ,\n",
       "        -9.197476 ],\n",
       "       [ 7.3087406,  6.4965568,  6.595199 , ...,  1.4063548,  2.3194256,\n",
       "         1.880352 ],\n",
       "       [ 3.4282572, -8.777307 , -6.4584146, ..., -9.818342 , -9.568864 ,\n",
       "        -9.863892 ]], dtype=float32)"
      ]
     },
     "execution_count": 251,
     "metadata": {},
     "output_type": "execute_result"
    }
   ],
   "source": [
    "logits[0]"
   ]
  },
  {
   "cell_type": "code",
   "execution_count": 56,
   "metadata": {},
   "outputs": [
    {
     "name": "stdout",
     "output_type": "stream",
     "text": [
      "2.43 µs ± 9.62 ns per loop (mean ± std. dev. of 7 runs, 100000 loops each)\n"
     ]
    }
   ],
   "source": [
    "%timeit [(i, tkn) for i, tkn in enumerate(padded[0])]"
   ]
  },
  {
   "cell_type": "code",
   "execution_count": 58,
   "metadata": {},
   "outputs": [
    {
     "data": {
      "text/plain": [
       "[(0, 220),\n",
       " (1, 220),\n",
       " (2, 220),\n",
       " (3, 10910),\n",
       " (4, 11),\n",
       " (5, 299),\n",
       " (6, 516),\n",
       " (7, 7608),\n",
       " (8, 346),\n",
       " (9, 24247),\n",
       " (10, 275),\n",
       " (11, 2013)]"
      ]
     },
     "execution_count": 58,
     "metadata": {},
     "output_type": "execute_result"
    }
   ],
   "source": [
    "[(i, tkn) for i, tkn in enumerate(padded[0])]"
   ]
  },
  {
   "cell_type": "code",
   "execution_count": 68,
   "metadata": {},
   "outputs": [
    {
     "data": {
      "text/plain": [
       "12"
      ]
     },
     "execution_count": 68,
     "metadata": {},
     "output_type": "execute_result"
    }
   ],
   "source": [
    "padded[0].size"
   ]
  },
  {
   "cell_type": "code",
   "execution_count": 83,
   "metadata": {},
   "outputs": [
    {
     "data": {
      "text/plain": [
       "array([  220,   220,   220, 10910,    11,   299,   516,  7608,   346,\n",
       "       24247,   275,  2013], dtype=int32)"
      ]
     },
     "execution_count": 83,
     "metadata": {},
     "output_type": "execute_result"
    }
   ],
   "source": [
    "padded[0]"
   ]
  },
  {
   "cell_type": "code",
   "execution_count": 86,
   "metadata": {},
   "outputs": [
    {
     "name": "stdout",
     "output_type": "stream",
     "text": [
      "4.02 µs ± 26.3 ns per loop (mean ± std. dev. of 7 runs, 100000 loops each)\n"
     ]
    }
   ],
   "source": [
    "%timeit list(zip(np.arange(padded[0].size), padded[0]))"
   ]
  },
  {
   "cell_type": "code",
   "execution_count": 97,
   "metadata": {},
   "outputs": [
    {
     "name": "stdout",
     "output_type": "stream",
     "text": [
      "2.41 µs ± 10.9 ns per loop (mean ± std. dev. of 7 runs, 100000 loops each)\n"
     ]
    }
   ],
   "source": [
    "%timeit np.array(zip(range(padded[0].size), padded[0]))"
   ]
  },
  {
   "cell_type": "code",
   "execution_count": 96,
   "metadata": {},
   "outputs": [
    {
     "name": "stdout",
     "output_type": "stream",
     "text": [
      "2.07 µs ± 21.4 ns per loop (mean ± std. dev. of 7 runs, 100000 loops each)\n"
     ]
    }
   ],
   "source": [
    "%timeit list(zip(range(padded[0].size), padded[0]))"
   ]
  },
  {
   "cell_type": "code",
   "execution_count": 103,
   "metadata": {},
   "outputs": [
    {
     "name": "stdout",
     "output_type": "stream",
     "text": [
      "1.82 µs ± 25.5 ns per loop (mean ± std. dev. of 7 runs, 1000000 loops each)\n"
     ]
    }
   ],
   "source": [
    "%timeit list(zip(range(padded.shape[1]), padded[0]))"
   ]
  },
  {
   "cell_type": "code",
   "execution_count": 170,
   "metadata": {},
   "outputs": [
    {
     "data": {
      "text/plain": [
       "array([  220,   220,   220, 10910,    11,   299,   516,  7608,   346,\n",
       "       24247,   275,  2013], dtype=int32)"
      ]
     },
     "execution_count": 170,
     "metadata": {},
     "output_type": "execute_result"
    }
   ],
   "source": [
    "padded[0]"
   ]
  },
  {
   "cell_type": "code",
   "execution_count": 182,
   "metadata": {},
   "outputs": [
    {
     "data": {
      "text/plain": [
       "array([[0, 0, 0, 0, 0, 0, 0, 0, 0, 0, 0, 0],\n",
       "       [1, 1, 1, 1, 1, 1, 1, 1, 1, 1, 1, 1],\n",
       "       [2, 2, 2, 2, 2, 2, 2, 2, 2, 2, 2, 2],\n",
       "       [3, 3, 3, 3, 3, 3, 3, 3, 3, 3, 3, 3]])"
      ]
     },
     "execution_count": 182,
     "metadata": {},
     "output_type": "execute_result"
    }
   ],
   "source": [
    "np.broadcast_to(np.arange(padded.shape[0]), (padded.shape[1],padded.shape[0])).T"
   ]
  },
  {
   "cell_type": "code",
   "execution_count": 178,
   "metadata": {},
   "outputs": [
    {
     "data": {
      "text/plain": [
       "array([[ 0,  1,  2,  3,  4,  5,  6,  7,  8,  9, 10, 11],\n",
       "       [ 0,  1,  2,  3,  4,  5,  6,  7,  8,  9, 10, 11],\n",
       "       [ 0,  1,  2,  3,  4,  5,  6,  7,  8,  9, 10, 11],\n",
       "       [ 0,  1,  2,  3,  4,  5,  6,  7,  8,  9, 10, 11]])"
      ]
     },
     "execution_count": 178,
     "metadata": {},
     "output_type": "execute_result"
    }
   ],
   "source": [
    "np.broadcast_to(np.arange(padded.shape[1]), padded.shape)"
   ]
  },
  {
   "cell_type": "code",
   "execution_count": 183,
   "metadata": {
    "collapsed": true,
    "jupyter": {
     "outputs_hidden": true
    }
   },
   "outputs": [
    {
     "data": {
      "text/plain": [
       "array([[[    0,     0,   220],\n",
       "        [    0,     1,   220],\n",
       "        [    0,     2,   220],\n",
       "        [    0,     3, 10910],\n",
       "        [    0,     4,    11],\n",
       "        [    0,     5,   299],\n",
       "        [    0,     6,   516],\n",
       "        [    0,     7,  7608],\n",
       "        [    0,     8,   346],\n",
       "        [    0,     9, 24247],\n",
       "        [    0,    10,   275],\n",
       "        [    0,    11,  2013]],\n",
       "\n",
       "       [[    1,     0, 40932],\n",
       "        [    1,     1,   502],\n",
       "        [    1,     2,  3652],\n",
       "        [    1,     3,  4763],\n",
       "        [    1,     4,   271],\n",
       "        [    1,     5,   288],\n",
       "        [    1,     6,   504],\n",
       "        [    1,     7,   443],\n",
       "        [    1,     8,  1036],\n",
       "        [    1,     9,   271],\n",
       "        [    1,    10, 38078],\n",
       "        [    1,    11, 16245]],\n",
       "\n",
       "       [[    2,     0,   220],\n",
       "        [    2,     1,  2538],\n",
       "        [    2,     2,  9440],\n",
       "        [    2,     3,  9328],\n",
       "        [    2,     4,    13],\n",
       "        [    2,     5,  2264],\n",
       "        [    2,     6,   417],\n",
       "        [    2,     7, 39073],\n",
       "        [    2,     8,  1477],\n",
       "        [    2,     9, 47476],\n",
       "        [    2,    10,   333],\n",
       "        [    2,    11,  5145]],\n",
       "\n",
       "       [[    3,     0,   220],\n",
       "        [    3,     1,   220],\n",
       "        [    3,     2,   220],\n",
       "        [    3,     3,   220],\n",
       "        [    3,     4,   220],\n",
       "        [    3,     5,   220],\n",
       "        [    3,     6,   220],\n",
       "        [    3,     7,   220],\n",
       "        [    3,     8,   220],\n",
       "        [    3,     9,   220],\n",
       "        [    3,    10, 10910],\n",
       "        [    3,    11,    13]]])"
      ]
     },
     "execution_count": 183,
     "metadata": {},
     "output_type": "execute_result"
    }
   ],
   "source": [
    "np.stack([\n",
    "    np.broadcast_to(np.arange(padded.shape[0]), (padded.shape[1],padded.shape[0])).T,\n",
    "    np.broadcast_to(np.arange(padded.shape[1]), padded.shape), \n",
    "    padded\n",
    "], axis=-1)"
   ]
  },
  {
   "cell_type": "code",
   "execution_count": 184,
   "metadata": {},
   "outputs": [],
   "source": [
    "indices = np.stack([\n",
    "            np.broadcast_to(np.arange(padded.shape[0]), (padded.shape[1],padded.shape[0])).T,\n",
    "            np.broadcast_to(np.arange(padded.shape[1]), padded.shape), \n",
    "            padded\n",
    "        ], axis=-1)"
   ]
  },
  {
   "cell_type": "code",
   "execution_count": 202,
   "metadata": {
    "collapsed": true,
    "jupyter": {
     "outputs_hidden": true
    }
   },
   "outputs": [
    {
     "data": {
      "text/plain": [
       "array([[[    0,     0,   220],\n",
       "        [    0,     1,   220],\n",
       "        [    0,     2,   220],\n",
       "        [    0,     3, 10910],\n",
       "        [    0,     4,    11],\n",
       "        [    0,     5,   299],\n",
       "        [    0,     6,   516],\n",
       "        [    0,     7,  7608],\n",
       "        [    0,     8,   346],\n",
       "        [    0,     9, 24247],\n",
       "        [    0,    10,   275],\n",
       "        [    0,    11,  2013]],\n",
       "\n",
       "       [[    1,     0, 40932],\n",
       "        [    1,     1,   502],\n",
       "        [    1,     2,  3652],\n",
       "        [    1,     3,  4763],\n",
       "        [    1,     4,   271],\n",
       "        [    1,     5,   288],\n",
       "        [    1,     6,   504],\n",
       "        [    1,     7,   443],\n",
       "        [    1,     8,  1036],\n",
       "        [    1,     9,   271],\n",
       "        [    1,    10, 38078],\n",
       "        [    1,    11, 16245]],\n",
       "\n",
       "       [[    2,     0,   220],\n",
       "        [    2,     1,  2538],\n",
       "        [    2,     2,  9440],\n",
       "        [    2,     3,  9328],\n",
       "        [    2,     4,    13],\n",
       "        [    2,     5,  2264],\n",
       "        [    2,     6,   417],\n",
       "        [    2,     7, 39073],\n",
       "        [    2,     8,  1477],\n",
       "        [    2,     9, 47476],\n",
       "        [    2,    10,   333],\n",
       "        [    2,    11,  5145]],\n",
       "\n",
       "       [[    3,     0,   220],\n",
       "        [    3,     1,   220],\n",
       "        [    3,     2,   220],\n",
       "        [    3,     3,   220],\n",
       "        [    3,     4,   220],\n",
       "        [    3,     5,   220],\n",
       "        [    3,     6,   220],\n",
       "        [    3,     7,   220],\n",
       "        [    3,     8,   220],\n",
       "        [    3,     9,   220],\n",
       "        [    3,    10, 10910],\n",
       "        [    3,    11,    13]]])"
      ]
     },
     "execution_count": 202,
     "metadata": {},
     "output_type": "execute_result"
    }
   ],
   "source": [
    "indices"
   ]
  },
  {
   "cell_type": "code",
   "execution_count": 204,
   "metadata": {},
   "outputs": [
    {
     "data": {
      "text/plain": [
       "(4, 12, 50257)"
      ]
     },
     "execution_count": 204,
     "metadata": {},
     "output_type": "execute_result"
    }
   ],
   "source": [
    "logits.shape"
   ]
  },
  {
   "cell_type": "code",
   "execution_count": 176,
   "metadata": {},
   "outputs": [
    {
     "data": {
      "text/plain": [
       "(4, 12, 2)"
      ]
     },
     "execution_count": 176,
     "metadata": {},
     "output_type": "execute_result"
    }
   ],
   "source": [
    "np.stack([np.broadcast_to(np.arange(padded.shape[1]), padded.shape), padded], axis=-1).shape"
   ]
  },
  {
   "cell_type": "code",
   "execution_count": 175,
   "metadata": {},
   "outputs": [
    {
     "data": {
      "text/plain": [
       "array([[[    0,   220],\n",
       "        [    1,   220],\n",
       "        [    2,   220],\n",
       "        [    3, 10910],\n",
       "        [    4,    11],\n",
       "        [    5,   299],\n",
       "        [    6,   516],\n",
       "        [    7,  7608],\n",
       "        [    8,   346],\n",
       "        [    9, 24247],\n",
       "        [   10,   275],\n",
       "        [   11,  2013]],\n",
       "\n",
       "       [[    0, 40932],\n",
       "        [    1,   502],\n",
       "        [    2,  3652],\n",
       "        [    3,  4763],\n",
       "        [    4,   271],\n",
       "        [    5,   288],\n",
       "        [    6,   504],\n",
       "        [    7,   443],\n",
       "        [    8,  1036],\n",
       "        [    9,   271],\n",
       "        [   10, 38078],\n",
       "        [   11, 16245]],\n",
       "\n",
       "       [[    0,   220],\n",
       "        [    1,  2538],\n",
       "        [    2,  9440],\n",
       "        [    3,  9328],\n",
       "        [    4,    13],\n",
       "        [    5,  2264],\n",
       "        [    6,   417],\n",
       "        [    7, 39073],\n",
       "        [    8,  1477],\n",
       "        [    9, 47476],\n",
       "        [   10,   333],\n",
       "        [   11,  5145]],\n",
       "\n",
       "       [[    0,   220],\n",
       "        [    1,   220],\n",
       "        [    2,   220],\n",
       "        [    3,   220],\n",
       "        [    4,   220],\n",
       "        [    5,   220],\n",
       "        [    6,   220],\n",
       "        [    7,   220],\n",
       "        [    8,   220],\n",
       "        [    9,   220],\n",
       "        [   10, 10910],\n",
       "        [   11,    13]]])"
      ]
     },
     "execution_count": 175,
     "metadata": {},
     "output_type": "execute_result"
    }
   ],
   "source": [
    "np.stack([np.broadcast_to(np.arange(padded.shape[1]), padded.shape), padded], axis=-1)"
   ]
  },
  {
   "cell_type": "code",
   "execution_count": 135,
   "metadata": {},
   "outputs": [
    {
     "ename": "ValueError",
     "evalue": "all input arrays must have the same shape",
     "output_type": "error",
     "traceback": [
      "\u001b[0;31m---------------------------------------------------------------------------\u001b[0m",
      "\u001b[0;31mValueError\u001b[0m                                Traceback (most recent call last)",
      "\u001b[0;32m<ipython-input-135-b0604484daed>\u001b[0m in \u001b[0;36m<module>\u001b[0;34m\u001b[0m\n\u001b[0;32m----> 1\u001b[0;31m \u001b[0mnp\u001b[0m\u001b[0;34m.\u001b[0m\u001b[0mstack\u001b[0m\u001b[0;34m(\u001b[0m\u001b[0mpadded\u001b[0m\u001b[0;34m.\u001b[0m\u001b[0mshape\u001b[0m\u001b[0;34m[\u001b[0m\u001b[0;36m0\u001b[0m\u001b[0;34m]\u001b[0m\u001b[0;34m*\u001b[0m\u001b[0;34m[\u001b[0m\u001b[0mnp\u001b[0m\u001b[0;34m.\u001b[0m\u001b[0marange\u001b[0m\u001b[0;34m(\u001b[0m\u001b[0mpadded\u001b[0m\u001b[0;34m.\u001b[0m\u001b[0mshape\u001b[0m\u001b[0;34m[\u001b[0m\u001b[0;36m1\u001b[0m\u001b[0;34m]\u001b[0m\u001b[0;34m)\u001b[0m\u001b[0;34m,\u001b[0m \u001b[0mpadded\u001b[0m\u001b[0;34m]\u001b[0m\u001b[0;34m,\u001b[0m \u001b[0maxis\u001b[0m\u001b[0;34m=\u001b[0m\u001b[0;34m-\u001b[0m\u001b[0;36m1\u001b[0m\u001b[0;34m)\u001b[0m\u001b[0;34m\u001b[0m\u001b[0;34m\u001b[0m\u001b[0m\n\u001b[0m",
      "\u001b[0;32m~/anaconda3/envs/tf14/lib/python3.7/site-packages/numpy/core/shape_base.py\u001b[0m in \u001b[0;36mstack\u001b[0;34m(arrays, axis, out)\u001b[0m\n\u001b[1;32m    414\u001b[0m     \u001b[0mshapes\u001b[0m \u001b[0;34m=\u001b[0m \u001b[0;34m{\u001b[0m\u001b[0marr\u001b[0m\u001b[0;34m.\u001b[0m\u001b[0mshape\u001b[0m \u001b[0;32mfor\u001b[0m \u001b[0marr\u001b[0m \u001b[0;32min\u001b[0m \u001b[0marrays\u001b[0m\u001b[0;34m}\u001b[0m\u001b[0;34m\u001b[0m\u001b[0;34m\u001b[0m\u001b[0m\n\u001b[1;32m    415\u001b[0m     \u001b[0;32mif\u001b[0m \u001b[0mlen\u001b[0m\u001b[0;34m(\u001b[0m\u001b[0mshapes\u001b[0m\u001b[0;34m)\u001b[0m \u001b[0;34m!=\u001b[0m \u001b[0;36m1\u001b[0m\u001b[0;34m:\u001b[0m\u001b[0;34m\u001b[0m\u001b[0;34m\u001b[0m\u001b[0m\n\u001b[0;32m--> 416\u001b[0;31m         \u001b[0;32mraise\u001b[0m \u001b[0mValueError\u001b[0m\u001b[0;34m(\u001b[0m\u001b[0;34m'all input arrays must have the same shape'\u001b[0m\u001b[0;34m)\u001b[0m\u001b[0;34m\u001b[0m\u001b[0;34m\u001b[0m\u001b[0m\n\u001b[0m\u001b[1;32m    417\u001b[0m \u001b[0;34m\u001b[0m\u001b[0m\n\u001b[1;32m    418\u001b[0m     \u001b[0mresult_ndim\u001b[0m \u001b[0;34m=\u001b[0m \u001b[0marrays\u001b[0m\u001b[0;34m[\u001b[0m\u001b[0;36m0\u001b[0m\u001b[0;34m]\u001b[0m\u001b[0;34m.\u001b[0m\u001b[0mndim\u001b[0m \u001b[0;34m+\u001b[0m \u001b[0;36m1\u001b[0m\u001b[0;34m\u001b[0m\u001b[0;34m\u001b[0m\u001b[0m\n",
      "\u001b[0;31mValueError\u001b[0m: all input arrays must have the same shape"
     ]
    }
   ],
   "source": [
    "np.stack(padded.shape[0]*[np.arange(padded.shape[1]), padded], axis=-1)"
   ]
  },
  {
   "cell_type": "code",
   "execution_count": 119,
   "metadata": {},
   "outputs": [
    {
     "data": {
      "text/plain": [
       "[[(0, 220),\n",
       "  (1, 220),\n",
       "  (2, 220),\n",
       "  (3, 10910),\n",
       "  (4, 11),\n",
       "  (5, 299),\n",
       "  (6, 516),\n",
       "  (7, 7608),\n",
       "  (8, 346),\n",
       "  (9, 24247),\n",
       "  (10, 275),\n",
       "  (11, 2013)],\n",
       " [(0, 40932),\n",
       "  (1, 502),\n",
       "  (2, 3652),\n",
       "  (3, 4763),\n",
       "  (4, 271),\n",
       "  (5, 288),\n",
       "  (6, 504),\n",
       "  (7, 443),\n",
       "  (8, 1036),\n",
       "  (9, 271),\n",
       "  (10, 38078),\n",
       "  (11, 16245)],\n",
       " [(0, 220),\n",
       "  (1, 2538),\n",
       "  (2, 9440),\n",
       "  (3, 9328),\n",
       "  (4, 13),\n",
       "  (5, 2264),\n",
       "  (6, 417),\n",
       "  (7, 39073),\n",
       "  (8, 1477),\n",
       "  (9, 47476),\n",
       "  (10, 333),\n",
       "  (11, 5145)],\n",
       " [(0, 220),\n",
       "  (1, 220),\n",
       "  (2, 220),\n",
       "  (3, 220),\n",
       "  (4, 220),\n",
       "  (5, 220),\n",
       "  (6, 220),\n",
       "  (7, 220),\n",
       "  (8, 220),\n",
       "  (9, 220),\n",
       "  (10, 10910),\n",
       "  (11, 13)]]"
      ]
     },
     "execution_count": 119,
     "metadata": {},
     "output_type": "execute_result"
    }
   ],
   "source": [
    "[list(zip(range(padded.shape[1]), padded[b])) for b in range(padded.shape[0])]"
   ]
  },
  {
   "cell_type": "code",
   "execution_count": 106,
   "metadata": {},
   "outputs": [
    {
     "data": {
      "text/plain": [
       "[(0, (0, 220)), (1, (1, 220)), (2, (2, 220)), (3, (3, 10910))]"
      ]
     },
     "execution_count": 106,
     "metadata": {},
     "output_type": "execute_result"
    }
   ],
   "source": [
    "list(zip(range(padded.shape[0]), list(zip(range(padded.shape[1]), padded[0]))))"
   ]
  },
  {
   "cell_type": "code",
   "execution_count": 247,
   "metadata": {},
   "outputs": [
    {
     "data": {
      "text/plain": [
       "array([[  220],\n",
       "       [  220],\n",
       "       [  220],\n",
       "       [10910],\n",
       "       [   11],\n",
       "       [  299],\n",
       "       [  516],\n",
       "       [ 7608],\n",
       "       [  346],\n",
       "       [24247],\n",
       "       [  275],\n",
       "       [ 2013]], dtype=int32)"
      ]
     },
     "execution_count": 247,
     "metadata": {},
     "output_type": "execute_result"
    }
   ],
   "source": [
    "padded[0,:,None]"
   ]
  },
  {
   "cell_type": "code",
   "execution_count": null,
   "metadata": {},
   "outputs": [],
   "source": [
    "indices = [(b, i, tkn) for  in ]"
   ]
  },
  {
   "cell_type": "code",
   "execution_count": 167,
   "metadata": {},
   "outputs": [
    {
     "data": {
      "text/plain": [
       "[(0, 220),\n",
       " (1, 220),\n",
       " (2, 220),\n",
       " (3, 10910),\n",
       " (4, 11),\n",
       " (5, 299),\n",
       " (6, 516),\n",
       " (7, 7608),\n",
       " (8, 346),\n",
       " (9, 24247),\n",
       " (10, 275),\n",
       " (11, 2013)]"
      ]
     },
     "execution_count": 167,
     "metadata": {},
     "output_type": "execute_result"
    }
   ],
   "source": [
    "list(zip(np.arange(len(padded[0])),padded[0]))"
   ]
  },
  {
   "cell_type": "code",
   "execution_count": 238,
   "metadata": {},
   "outputs": [
    {
     "name": "stdout",
     "output_type": "stream",
     "text": [
      " 22.68  18.83  18.52  -0.17  -7.89  -0.47  -9.74  -3.58   3.29  -7.50   0.54  -6.90 \n",
      "  5.66   4.03   4.06 -11.92 -11.42   0.89  -4.92  -2.19   0.91  -5.07  -4.36  -2.13 \n",
      " 22.68   1.53   7.14   8.36   0.53   1.24  -1.31  -0.13   0.08 -10.10  -5.05   2.72 \n",
      " 22.68  18.83  18.52  18.08  19.06  20.29  21.18  21.54  21.77  21.78   1.73   0.93 \n"
     ]
    }
   ],
   "source": [
    "for j, (b, tkns) in enumerate(zip(logits, padded)):\n",
    "    for i, tkn in enumerate(tkns):\n",
    "        print(f\"{b[i,tkn]:>6.2f}\", end=' ')\n",
    "    print()"
   ]
  },
  {
   "cell_type": "code",
   "execution_count": 236,
   "metadata": {},
   "outputs": [
    {
     "name": "stdout",
     "output_type": "stream",
     "text": [
      "batch: 0\n",
      "tokens:\t   220 |    220 |    220 |  10910 |     11 |    299 |    516 |   7608 |    346 |  24247 |    275 |   2013 | \n",
      "logits:\t 22.68 |  18.83 |  18.52 |  -0.17 |  -7.89 |  -0.47 |  -9.74 |  -3.58 |   3.29 |  -7.50 |   0.54 |  -6.90 | \n",
      "batch: 1\n",
      "tokens:\t 40932 |    502 |   3652 |   4763 |    271 |    288 |    504 |    443 |   1036 |    271 |  38078 |  16245 | \n",
      "logits:\t  5.66 |   4.03 |   4.06 | -11.92 | -11.42 |   0.89 |  -4.92 |  -2.19 |   0.91 |  -5.07 |  -4.36 |  -2.13 | \n",
      "batch: 2\n",
      "tokens:\t   220 |   2538 |   9440 |   9328 |     13 |   2264 |    417 |  39073 |   1477 |  47476 |    333 |   5145 | \n",
      "logits:\t 22.68 |   1.53 |   7.14 |   8.36 |   0.53 |   1.24 |  -1.31 |  -0.13 |   0.08 | -10.10 |  -5.05 |   2.72 | \n",
      "batch: 3\n",
      "tokens:\t   220 |    220 |    220 |    220 |    220 |    220 |    220 |    220 |    220 |    220 |  10910 |     13 | \n",
      "logits:\t 22.68 |  18.83 |  18.52 |  18.08 |  19.06 |  20.29 |  21.18 |  21.54 |  21.77 |  21.78 |   1.73 |   0.93 | \n"
     ]
    }
   ],
   "source": [
    "for j, (b, tkns) in enumerate(zip(logits, padded)):\n",
    "    print('batch:', j)\n",
    "    print('tokens:\\t', end='')\n",
    "    for tkn in tkns:\n",
    "        print(f\"{tkn:>6} | \", end='')\n",
    "    print()\n",
    "    print('logits:\\t', end='')\n",
    "    for i, tkn in enumerate(tkns):\n",
    "        print(f\"{b[i,tkn]:>6.2f} |\", end=' ')\n",
    "    print()"
   ]
  },
  {
   "cell_type": "code",
   "execution_count": 53,
   "metadata": {},
   "outputs": [
    {
     "name": "stdout",
     "output_type": "stream",
     "text": [
      "0 [  220   220   220 10910    11   299   516  7608   346 24247   275]\n",
      "1 [40932   502  3652  4763   271   288   504   443  1036   271 38078]\n",
      "2 [  220  2538  9440  9328    13  2264   417 39073  1477 47476   333]\n",
      "3 [  220   220   220   220   220   220   220   220   220   220 10910]\n"
     ]
    }
   ],
   "source": [
    "for i, a in enumerate(padded[:, :-1]):\n",
    "    print(i, a)"
   ]
  },
  {
   "cell_type": "markdown",
   "metadata": {},
   "source": [
    "---\n",
    "\n",
    "## Logits"
   ]
  },
  {
   "cell_type": "code",
   "execution_count": 34,
   "metadata": {},
   "outputs": [],
   "source": [
    "def get_logits(model, context_tokens, last_only=False):\n",
    "    \"\"\"\n",
    "    Generate the logits (probabilities of each token) at each step for a\n",
    "    given one or more sequences of tokens.\n",
    "    Returns:\n",
    "    --------\n",
    "        logits: array of shape: (batch_size, n_tokens, n_vocab)\n",
    "                or, if last_only is True: (batch_size, 1, n_vocab)\n",
    "    \"\"\"\n",
    "    # model.check_batch_size(batch_size)\n",
    "    if not isinstance(context_tokens[0], (list, tuple, np.ndarray)):\n",
    "        model.check_batch_size(1)\n",
    "        context = model.batch_size * [context_tokens]\n",
    "        print('one dim')\n",
    "        print(context)\n",
    "    else:\n",
    "        model.check_batch_size(len(context_tokens))\n",
    "        context = context_tokens\n",
    "        print('many dims')        \n",
    "        print(context)\n",
    "    # model.model, defined at initialization, returns logits & attention matrix\n",
    "    logits = model.sess.run(model.model, feed_dict={model.context: context})[\"logits\"]\n",
    "    # all logits starting from the second token, n logits for n tokens\n",
    "    # shape (batch_size, n_tokens, vocab_size)\n",
    "    if not last_only:\n",
    "        return logits\n",
    "    # logits for next token, None to keep dims intact\n",
    "    return logits[:, None, -1, :]"
   ]
  },
  {
   "cell_type": "code",
   "execution_count": 35,
   "metadata": {},
   "outputs": [
    {
     "name": "stdout",
     "output_type": "stream",
     "text": [
      "one dim\n",
      "[array([10910,    11,   299,   516,  7608,   346, 24247,   275,  2013])]\n"
     ]
    },
    {
     "data": {
      "text/plain": [
       "(1, 9, 50257)"
      ]
     },
     "execution_count": 35,
     "metadata": {},
     "output_type": "execute_result"
    }
   ],
   "source": [
    "get_logits(m, m.encode(snt[0])).shape"
   ]
  },
  {
   "cell_type": "code",
   "execution_count": 27,
   "metadata": {},
   "outputs": [
    {
     "name": "stdout",
     "output_type": "stream",
     "text": [
      "many dims\n",
      "[[  220   220   220 10910    11   299   516  7608   346 24247   275  2013]\n",
      " [40932   502  3652  4763   271   288   504   443  1036   271 38078 16245]\n",
      " [  220  2538  9440  9328    13  2264   417 39073  1477 47476   333  5145]\n",
      " [  220   220   220   220   220   220   220   220   220   220 10910    13]]\n"
     ]
    },
    {
     "data": {
      "text/plain": [
       "(4, 12, 50257)"
      ]
     },
     "execution_count": 27,
     "metadata": {},
     "output_type": "execute_result"
    }
   ],
   "source": [
    "get_logits(m, m.pad_sequences(snt)).shape"
   ]
  },
  {
   "cell_type": "code",
   "execution_count": 71,
   "metadata": {},
   "outputs": [
    {
     "data": {
      "text/plain": [
       "(4, 11, 50257)"
      ]
     },
     "execution_count": 71,
     "metadata": {},
     "output_type": "execute_result"
    }
   ],
   "source": [
    "get_logits(m, snt)[:, :-1, :].shape"
   ]
  },
  {
   "cell_type": "code",
   "execution_count": 64,
   "metadata": {},
   "outputs": [
    {
     "data": {
      "text/plain": [
       "(4, 1, 50257)"
      ]
     },
     "execution_count": 64,
     "metadata": {},
     "output_type": "execute_result"
    }
   ],
   "source": [
    "get_logits(m, snt, last_only=True).shape"
   ]
  },
  {
   "cell_type": "markdown",
   "metadata": {},
   "source": [
    "---\n",
    "\n",
    "## Sequence padding"
   ]
  },
  {
   "cell_type": "code",
   "execution_count": 9,
   "metadata": {},
   "outputs": [
    {
     "data": {
      "text/plain": [
       "array([[  220,   220,  2436,   993, 33367],\n",
       "       [ 2436,   993,   288,   571,  9271]], dtype=int32)"
      ]
     },
     "execution_count": 9,
     "metadata": {},
     "output_type": "execute_result"
    }
   ],
   "source": [
    "m.pad_sequences(['blah blah', 'blah diblah'])"
   ]
  },
  {
   "cell_type": "code",
   "execution_count": 16,
   "metadata": {},
   "outputs": [
    {
     "data": {
      "text/plain": [
       "array([[  220,   220,   220, 10910,    11,   299,   516,  7608,   346,\n",
       "        24247,   275,  2013],\n",
       "       [40932,   502,  3652,  4763,   271,   288,   504,   443,  1036,\n",
       "          271, 38078, 16245],\n",
       "       [  220,  2538,  9440,  9328,    13,  2264,   417, 39073,  1477,\n",
       "        47476,   333,  5145],\n",
       "       [  220,   220,   220,   220,   220,   220,   220,   220,   220,\n",
       "          220, 10910,    13]], dtype=int32)"
      ]
     },
     "execution_count": 16,
     "metadata": {},
     "output_type": "execute_result"
    }
   ],
   "source": [
    "tf.keras.preprocessing.sequence.pad_sequences(\n",
    "    m.encode(snt), \n",
    "    maxlen=None, \n",
    "    dtype='int32', \n",
    "    padding='pre', \n",
    "    truncating='pre',\n",
    "    value=220\n",
    ")"
   ]
  },
  {
   "cell_type": "code",
   "execution_count": 20,
   "metadata": {},
   "outputs": [
    {
     "data": {
      "text/plain": [
       "array([220])"
      ]
     },
     "execution_count": 20,
     "metadata": {},
     "output_type": "execute_result"
    }
   ],
   "source": [
    "m.encode(' ')"
   ]
  },
  {
   "cell_type": "markdown",
   "metadata": {},
   "source": [
    "After having coded the function into the class (220 is space):"
   ]
  },
  {
   "cell_type": "code",
   "execution_count": 19,
   "metadata": {},
   "outputs": [
    {
     "name": "stdout",
     "output_type": "stream",
     "text": [
      "[[  220   220   220 10910    11   299   516  7608   346 24247   275  2013]\n",
      " [40932   502  3652  4763   271   288   504   443  1036   271 38078 16245]\n",
      " [  220  2538  9440  9328    13  2264   417 39073  1477 47476   333  5145]\n",
      " [  220   220   220   220   220   220   220   220   220   220 10910    13]]\n"
     ]
    },
    {
     "data": {
      "text/plain": [
       "['   Ah, nous voilà bien',\n",
       " 'Je me baladais dans le gris sans fond',\n",
       " ' LE COMTE. Quel déshonneur !',\n",
       " '          Ah.']"
      ]
     },
     "execution_count": 19,
     "metadata": {},
     "output_type": "execute_result"
    }
   ],
   "source": [
    "print(m.pad_sequences(snt, padding='pre'))\n",
    "m.decode(m.pad_sequences(snt, padding='pre'))"
   ]
  },
  {
   "cell_type": "code",
   "execution_count": 18,
   "metadata": {},
   "outputs": [
    {
     "name": "stdout",
     "output_type": "stream",
     "text": [
      "[[10910    11   299   516  7608   346 24247   275  2013   220   220   220]\n",
      " [40932   502  3652  4763   271   288   504   443  1036   271 38078 16245]\n",
      " [ 2538  9440  9328    13  2264   417 39073  1477 47476   333  5145   220]\n",
      " [10910    13   220   220   220   220   220   220   220   220   220   220]]\n"
     ]
    },
    {
     "data": {
      "text/plain": [
       "['Ah, nous voilà bien   ',\n",
       " 'Je me baladais dans le gris sans fond',\n",
       " 'LE COMTE. Quel déshonneur ! ',\n",
       " 'Ah.          ']"
      ]
     },
     "execution_count": 18,
     "metadata": {},
     "output_type": "execute_result"
    }
   ],
   "source": [
    "print(m.pad_sequences(snt, padding='post'))\n",
    "m.decode(m.pad_sequences(snt, padding='post'))"
   ]
  },
  {
   "cell_type": "markdown",
   "metadata": {},
   "source": [
    "Encoding and decoding in turn seem to yield identity."
   ]
  },
  {
   "cell_type": "code",
   "execution_count": 20,
   "metadata": {},
   "outputs": [
    {
     "name": "stdout",
     "output_type": "stream",
     "text": [
      "[[ True  True  True  True  True  True  True  True  True  True  True  True]\n",
      " [ True  True  True  True  True  True  True  True  True  True  True  True]\n",
      " [ True  True  True  True  True  True  True  True  True  True  True  True]\n",
      " [ True  True  True  True  True  True  True  True  True  True  True  True]]\n"
     ]
    }
   ],
   "source": [
    "print(m.encode(m.decode(m.pad_sequences(snt, padding='post'))) == m.pad_sequences(snt, padding='post'))"
   ]
  }
 ],
 "metadata": {
  "kernelspec": {
   "display_name": "Python 3",
   "language": "python",
   "name": "python3"
  },
  "language_info": {
   "codemirror_mode": {
    "name": "ipython",
    "version": 3
   },
   "file_extension": ".py",
   "mimetype": "text/x-python",
   "name": "python",
   "nbconvert_exporter": "python",
   "pygments_lexer": "ipython3",
   "version": "3.7.6"
  }
 },
 "nbformat": 4,
 "nbformat_minor": 4
}
